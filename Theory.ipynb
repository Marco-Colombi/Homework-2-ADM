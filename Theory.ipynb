{
 "cells": [
  {
   "cell_type": "markdown",
   "metadata": {},
   "source": [
    "# Theoretical Question:"
   ]
  },
  {
   "cell_type": "markdown",
   "metadata": {},
   "source": [
    "## 1:"
   ]
  },
  {
   "cell_type": "markdown",
   "metadata": {},
   "source": [
    "The running time of the aforementioned algorithm is O(nlogn). the swapslit function recursively calls itself by splitting the array in 2 equal parts and it makes the space like tree and we know that in tree the height is logn so the swaplist is called logn time and inside the swaplist in worst case the for loop runs in O(n/2) and it's O(n) so overall running time is O(nlogn) in worst case senario."
   ]
  },
  {
   "cell_type": "markdown",
   "metadata": {},
   "source": [
    "## 2:"
   ]
  },
  {
   "cell_type": "markdown",
   "metadata": {},
   "source": [
    "### Mechanism of the algorithm:\n",
    "\n",
    "The algorithm is a Divide and Conquer algorithm. It divides input array in two halves, calls itself for the two halves and then solits the two swaped halves, so it splits until the new length of the new array becomes to one then the splitswap function will stop executing and the swaplist function will be called, then  at the leaves of the tree each split that is power of two the first element will be replaced by the last one , and the second element will be replaced by (n-1)s element ...."
   ]
  },
  {
   "cell_type": "markdown",
   "metadata": {},
   "source": [
    "### rejecting optimalization of the algorithm:\n",
    "The running time of the proposed algorithm is O(n) which is less than the algorithm in the question."
   ]
  },
  {
   "cell_type": "code",
   "execution_count": 1,
   "metadata": {},
   "outputs": [],
   "source": [
    "a=[1,2,3,4,5,6,7,8]\n",
    "n=8\n",
    "for i in range(n//2):\n",
    "    tmp=a[i]\n",
    "    a[i]=a[n-i-1]\n",
    "    a[n-i-1]=tmp"
   ]
  }
 ],
 "metadata": {
  "kernelspec": {
   "display_name": "Python 3",
   "language": "python",
   "name": "python3"
  },
  "language_info": {
   "codemirror_mode": {
    "name": "ipython",
    "version": 3
   },
   "file_extension": ".py",
   "mimetype": "text/x-python",
   "name": "python",
   "nbconvert_exporter": "python",
   "pygments_lexer": "ipython3",
   "version": "3.7.3"
  }
 },
 "nbformat": 4,
 "nbformat_minor": 2
}
